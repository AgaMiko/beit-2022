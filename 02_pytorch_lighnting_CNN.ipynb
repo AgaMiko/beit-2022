{
  "nbformat": 4,
  "nbformat_minor": 0,
  "metadata": {
    "colab": {
      "name": "02_pytorch_lighnting_CNN.ipynb",
      "provenance": [],
      "collapsed_sections": []
    },
    "kernelspec": {
      "name": "python3",
      "display_name": "Python 3"
    },
    "accelerator": "GPU"
  },
  "cells": [
    {
      "cell_type": "markdown",
      "metadata": {
        "id": "Ygp8tzwUMfOc"
      },
      "source": [
        "# Traffic Sign Classification Challenge 2022\n",
        "Author: Agnieszka Mikołajczyk\n"
      ]
    },
    {
      "cell_type": "markdown",
      "metadata": {
        "id": "-UdHBdInGfSD"
      },
      "source": [
        "Now, go to your kaggle account and download dataset. Upload it below."
      ]
    },
    {
      "cell_type": "code",
      "metadata": {
        "id": "5XeNn4XdMeGb"
      },
      "source": [
        "from google.colab import files\n",
        "uploaded = files.upload()"
      ],
      "execution_count": null,
      "outputs": []
    },
    {
      "cell_type": "code",
      "metadata": {
        "id": "E4T2CLiEEKYb"
      },
      "source": [
        "!unzip -q traffic-sign-2022.zip #uzipping dataset"
      ],
      "execution_count": null,
      "outputs": []
    },
    {
      "cell_type": "markdown",
      "metadata": {
        "id": "JQHDzPdJGhKB"
      },
      "source": [
        "Now we will seed everything so the results are reproducible"
      ]
    },
    {
      "cell_type": "code",
      "metadata": {
        "id": "y5yau0GSZ5ZU"
      },
      "source": [
        "import random\n",
        "import numpy as np\n",
        "import torch\n",
        "import os\n",
        "def seed_everything(seed):\n",
        "    random.seed(seed)\n",
        "    os.environ['PYTHONHASHSEED'] = str(seed)\n",
        "    np.random.seed(seed)\n",
        "    torch.manual_seed(seed)\n",
        "    torch.cuda.manual_seed(seed)\n",
        "    torch.backends.cudnn.deterministic = True\n",
        "seed_everything(2021)"
      ],
      "execution_count": null,
      "outputs": []
    },
    {
      "cell_type": "markdown",
      "metadata": {
        "id": "VSAhHPN1l5Bb"
      },
      "source": [
        "## Loading data\n",
        "Now, we will preprocess and load training set"
      ]
    },
    {
      "cell_type": "code",
      "metadata": {
        "id": "1bml9Akd353P"
      },
      "source": [
        "NUM_EPOCHS = 20 # number of times which the entire dataset is passed throughout the model\n",
        "BATCH_SIZE = 64 # the size of input data took for one iteration\n",
        "lr = 1e-3 # size of step\n",
        "INPUT_SIZE = 28"
      ],
      "execution_count": null,
      "outputs": []
    },
    {
      "cell_type": "code",
      "metadata": {
        "id": "kWHT-LSPl5Sw"
      },
      "source": [
        "import torch.nn as nn\n",
        "import torchvision.datasets as dsets\n",
        "import torchvision.transforms as transforms\n",
        "from torch.autograd import Variable\n",
        "\n",
        "transform = transforms.Compose([\n",
        "        transforms.Resize([INPUT_SIZE,INPUT_SIZE]),\n",
        "        transforms.ToTensor(),\n",
        "        transforms.Normalize(mean=[0.4588, 0.5020, 0.5196],\n",
        "                             std=[0.1665, 0.1690, 0.1644])\n",
        "    ])\n",
        "\n",
        "train_dataset = dsets.ImageFolder(\n",
        "        root='data/train',\n",
        "        transform=transform,\n",
        "    )\n",
        "\n",
        "train_size = round(len(train_dataset) * 0.6)\n",
        "valid_size = len(train_dataset) - train_size\n",
        "train_set, valid_set = torch.utils.data.random_split(train_dataset,\n",
        "                                                     [train_size, valid_size])\n",
        "\n",
        "train_gen = torch.utils.data.DataLoader(dataset=train_set,\n",
        "                                      batch_size = BATCH_SIZE,\n",
        "                                      shuffle = True)\n",
        "\n",
        "valid_gen = torch.utils.data.DataLoader(dataset = valid_set,\n",
        "                                      batch_size = valid_size, \n",
        "                                      shuffle = False)\n",
        "\n",
        "\n",
        "print('Loaded ', len(train_set), 'training images and ', len(valid_set), ' validation images.')\n",
        "print('Classes detected: ', train_dataset.classes)"
      ],
      "execution_count": null,
      "outputs": []
    },
    {
      "cell_type": "code",
      "metadata": {
        "id": "2d9KJwZU6wzL"
      },
      "source": [
        "import matplotlib.pyplot as plt\n",
        "# Show example images after transforms\n",
        "data_iter = iter(train_gen)\n",
        "images, labels = next(data_iter)\n",
        "fig, axes = plt.subplots(figsize = (18,10), ncols=8)\n",
        "for ii in range(8):\n",
        "    ax = axes[ii]\n",
        "    ax.imshow(images[ii].permute(1,2,0))"
      ],
      "execution_count": null,
      "outputs": []
    },
    {
      "cell_type": "markdown",
      "metadata": {
        "id": "tilJBo7koGdr"
      },
      "source": [
        "## Architecture and training\n",
        "Defining simple net - fully connected network with 2 layers."
      ]
    },
    {
      "cell_type": "code",
      "metadata": {
        "id": "u1ZjmhSU6IS3"
      },
      "source": [
        "import pytorch_lightning as pl\n",
        "import pandas as pd\n",
        "import seaborn as sn\n",
        "from sklearn.metrics import confusion_matrix, classification_report\n",
        "\n",
        "\n",
        "class ConvNetwork(pl.LightningModule):\n",
        "    def __init__(self):\n",
        "      super(ConvNetwork,self).__init__()\n",
        "      self.conv1 = nn.Conv2d(3, 16, kernel_size=5) # convolutional layer\n",
        "      self.relu = nn.ReLU() # activation function: relu\n",
        "      self.conv2 = nn.Conv2d(16, 32, kernel_size=5) # second convolutional layer\n",
        "      self.fc = nn.Linear(32*20*20, 4) # output layer\n",
        "\n",
        "      self.loss_function = nn.CrossEntropyLoss()\n",
        "\n",
        "    def forward(self,x):\n",
        "        x = self.conv1(x)\n",
        "        x = self.relu(x)\n",
        "        x = self.conv2(x)\n",
        "        x = x.view(-1, 32*20*20)\n",
        "        out = self.fc(x)\n",
        "        return out\n",
        "    \n",
        "    def configure_optimizers(self):\n",
        "        return torch.optim.Adam(self.parameters(), lr=lr)\n",
        "    \n",
        "    def training_step(self, batch, batch_idx):\n",
        "        images,labels = batch\n",
        "        outputs = self(images)\n",
        "        loss = self.loss_function(outputs, labels)\n",
        "        self.log('loss', loss) # add loss to track\n",
        "        return loss"
      ],
      "execution_count": null,
      "outputs": []
    },
    {
      "cell_type": "markdown",
      "metadata": {
        "id": "itOwE8BMjXrl"
      },
      "source": [
        "## Training"
      ]
    },
    {
      "cell_type": "code",
      "metadata": {
        "id": "l9r6gGCZ6tJQ"
      },
      "source": [
        "net = ConvNetwork()\n",
        "trainer = pl.Trainer(max_epochs=NUM_EPOCHS,log_every_n_steps=1)\n",
        "trainer.fit(net,train_gen, valid_gen)"
      ],
      "execution_count": null,
      "outputs": []
    },
    {
      "cell_type": "markdown",
      "source": [
        "# Testing"
      ],
      "metadata": {
        "id": "XsQCZwj7oiVY"
      }
    },
    {
      "cell_type": "code",
      "source": [
        "# Add evaluation here"
      ],
      "metadata": {
        "id": "h24wFuu3oXRx"
      },
      "execution_count": null,
      "outputs": []
    }
  ]
}