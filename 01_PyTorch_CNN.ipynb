{
  "nbformat": 4,
  "nbformat_minor": 0,
  "metadata": {
    "colab": {
      "name": "01_PyTorch_CNN.ipynb",
      "provenance": [],
      "collapsed_sections": []
    },
    "kernelspec": {
      "name": "python3",
      "display_name": "Python 3"
    },
    "accelerator": "GPU"
  },
  "cells": [
    {
      "cell_type": "markdown",
      "metadata": {
        "id": "Ygp8tzwUMfOc"
      },
      "source": [
        "# Traffic Sign Classification Challenge 2022\n",
        "Author: Agnieszka Mikołajczyk\n",
        "\n",
        "Wyzwanie polega na klasyfikacji znaków drogowych przy pomocy sieci neuronowych. Udostępniona baza danych zawiera po 800 obrazów.\n",
        "\n",
        "Są cztery klasy:\n",
        "\n",
        "\n",
        "*   znak stopu,\n",
        "*    przejście dla pieszych,\n",
        "*    sygnalizacja świetlna,\n",
        "*   limit prędkości.\n",
        "\n",
        "\n",
        "\n",
        "![traffic sign example images](https://image.slidesharecdn.com/2-sign-signals-and-markings1-171206152608/95/signs-signals-and-markings-1-638.jpg?cb=1512574003)\n",
        "\n",
        "### Wskazówki\n",
        "\n",
        "* Aby ułatwić sobie ocenę jakości danej sieci neuronowej warto wydzielić ze zbioru treningowego zbiór walidacyjny, na którym będą mogli państwo oceniać zdolności generalizacyjne sieci.\n",
        "* W przypadku małych sieci neuronowych warto roważyć zmniejszenie obrazów przed treningiem\n",
        "* W przypadku klasyfikacji wieloklasowej warto oceniać wyniki korzystając z \"confusion matrix\". Po wyświetleniu jej widać, które klasy są mylone z którymi. Po przekątne chcemy mieć jak najwyższe wyniki.\n",
        "![confusion matrix](https://dawn.cs.stanford.edu/assets/img/2017-08-11-tanda/data_aug_basic.png)\n",
        "* można włączyć przyspieszenie GPU. Trzeba wejść w: Kernel -> Change Kernel -> GPU. Spowoduje to kilkunastrokrotne przyspieszenie obliczeń!!\n",
        "![instruction how to set gpu](https://miro.medium.com/max/740/1*WNovJnpGMOys8Rv7YIsZzA.png)\n",
        "* Warto rozważyć kodowanie wyjść typu one-hot encoding. Zazwyczaj jest łatwiejsze w treningu. W przypadku klasyfikacji 10 cyfr jedynke zakodowalibyśmy jako: 1 na pozycji drugiej (na pierwszej pozycji jest 0), a reszta 0.\n",
        "\n",
        "```\n",
        "[0 1 0 0 0 0 0 0 0 0] -> 1\n",
        "[0 0 1 0 0 0 0 0 0 0] -> 2\n",
        "[0 0 0 0 0 0 0 0 0 1] -> 9\n",
        "```\n",
        "![one hot encoding example](https://i.imgur.com/mtimFxh.png)"
      ]
    },
    {
      "cell_type": "code",
      "metadata": {
        "id": "2EuupvLjRbz5"
      },
      "source": [
        "!pip install pytorch-lightning"
      ],
      "execution_count": null,
      "outputs": []
    },
    {
      "cell_type": "markdown",
      "metadata": {
        "id": "-UdHBdInGfSD"
      },
      "source": [
        "Now, go to your kaggle account and download dataset. Upload it below."
      ]
    },
    {
      "cell_type": "code",
      "metadata": {
        "id": "5XeNn4XdMeGb"
      },
      "source": [
        "from google.colab import files\n",
        "uploaded = files.upload()"
      ],
      "execution_count": null,
      "outputs": []
    },
    {
      "cell_type": "code",
      "metadata": {
        "id": "E4T2CLiEEKYb"
      },
      "source": [
        "!unzip -q traffic-sign-2022.zip #uzipping dataset"
      ],
      "execution_count": null,
      "outputs": []
    },
    {
      "cell_type": "markdown",
      "metadata": {
        "id": "JQHDzPdJGhKB"
      },
      "source": [
        "Now we will seed everything so the results are reproducible"
      ]
    },
    {
      "cell_type": "code",
      "metadata": {
        "id": "y5yau0GSZ5ZU"
      },
      "source": [
        "import random\n",
        "import numpy as np\n",
        "import torch\n",
        "import os\n",
        "def seed_everything(seed):\n",
        "    random.seed(seed)\n",
        "    os.environ['PYTHONHASHSEED'] = str(seed)\n",
        "    np.random.seed(seed)\n",
        "    torch.manual_seed(seed)\n",
        "    torch.cuda.manual_seed(seed)\n",
        "    torch.backends.cudnn.deterministic = True\n",
        "seed_everything(2021)"
      ],
      "execution_count": null,
      "outputs": []
    },
    {
      "cell_type": "markdown",
      "metadata": {
        "id": "VSAhHPN1l5Bb"
      },
      "source": [
        "## Loading data\n",
        "Now, we will preprocess and load training set"
      ]
    },
    {
      "cell_type": "code",
      "metadata": {
        "id": "1bml9Akd353P"
      },
      "source": [
        "NUM_EPOCHS = 20 # number of times which the entire dataset is passed throughout the model\n",
        "BATCH_SIZE = 64 # the size of input data took for one iteration\n",
        "lr = 1e-3 # size of step\n",
        "INPUT_SIZE = 28"
      ],
      "execution_count": null,
      "outputs": []
    },
    {
      "cell_type": "code",
      "metadata": {
        "id": "kWHT-LSPl5Sw"
      },
      "source": [
        "import torch.nn as nn\n",
        "import torchvision.datasets as dsets\n",
        "import torchvision.transforms as transforms\n",
        "from torch.autograd import Variable\n",
        "\n",
        "transform = transforms.Compose([\n",
        "        transforms.Resize([INPUT_SIZE,INPUT_SIZE]),\n",
        "        transforms.ToTensor(),\n",
        "        transforms.Normalize(mean=[0.4588, 0.5020, 0.5196],\n",
        "                             std=[0.1665, 0.1690, 0.1644])\n",
        "    ])\n",
        "\n",
        "train_dataset = dsets.ImageFolder(\n",
        "        root='data/train',\n",
        "        transform=transform,\n",
        "    )\n",
        "\n",
        "train_size = round(len(train_dataset) * 0.6)\n",
        "valid_size = len(train_dataset) - train_size\n",
        "train_set, valid_set = torch.utils.data.random_split(train_dataset,\n",
        "                                                     [train_size, valid_size])\n",
        "\n",
        "train_gen = torch.utils.data.DataLoader(dataset=train_set,\n",
        "                                      batch_size = BATCH_SIZE,\n",
        "                                      shuffle = True)\n",
        "\n",
        "valid_gen = torch.utils.data.DataLoader(dataset = valid_set,\n",
        "                                      batch_size = valid_size, \n",
        "                                      shuffle = False)\n",
        "\n",
        "\n",
        "print('Loaded ', len(train_set), 'training images and ', len(valid_set), ' validation images.')\n",
        "print('Classes detected: ', train_dataset.classes)"
      ],
      "execution_count": null,
      "outputs": []
    },
    {
      "cell_type": "code",
      "metadata": {
        "id": "2d9KJwZU6wzL"
      },
      "source": [
        "import matplotlib.pyplot as plt\n",
        "# Show example images after transforms\n",
        "data_iter = iter(train_gen)\n",
        "images, labels = next(data_iter)\n",
        "fig, axes = plt.subplots(figsize = (18,10), ncols=8)\n",
        "for ii in range(8):\n",
        "    ax = axes[ii]\n",
        "    ax.imshow(images[ii].permute(1,2,0))"
      ],
      "execution_count": null,
      "outputs": []
    },
    {
      "cell_type": "markdown",
      "metadata": {
        "id": "tilJBo7koGdr"
      },
      "source": [
        "## Architecture and training\n",
        "Defining simple net - fully connected network with 2 layers."
      ]
    },
    {
      "cell_type": "code",
      "metadata": {
        "id": "u1ZjmhSU6IS3"
      },
      "source": [
        "import pytorch_lightning as pl\n",
        "import pandas as pd\n",
        "import seaborn as sn\n",
        "from sklearn.metrics import confusion_matrix, classification_report\n",
        "import timm\n",
        "\n",
        "class ConvNetwork(pl.LightningModule):\n",
        "    def __init__(self):\n",
        "      super(ConvNetwork,self).__init__()\n",
        "      self.model = timm.create_model('tinynet_e', pretrained=True)\n",
        "      self.fc = nn.Linear(32*20*20, 4) # output layer\n",
        "\n",
        "      self.loss_function = nn.CrossEntropyLoss()\n",
        "\n",
        "    def forward(self,x):\n",
        "        x = self.conv1(x)\n",
        "        x = self.relu(x)\n",
        "        x = self.conv2(x)\n",
        "        x = x.view(-1, 32*20*20)\n",
        "        out = self.fc(x)\n",
        "        return out\n",
        "    \n",
        "    def configure_optimizers(self):\n",
        "        return torch.optim.Adam(self.parameters(), lr=lr)\n",
        "    \n",
        "    def training_step(self, batch, batch_idx):\n",
        "        images,labels = batch\n",
        "        outputs = self(images)\n",
        "        loss = self.loss_function(outputs, labels)\n",
        "        self.log('loss', loss) # add loss to track\n",
        "        return loss"
      ],
      "execution_count": null,
      "outputs": []
    },
    {
      "cell_type": "markdown",
      "metadata": {
        "id": "itOwE8BMjXrl"
      },
      "source": [
        "## Training"
      ]
    },
    {
      "cell_type": "code",
      "metadata": {
        "id": "l9r6gGCZ6tJQ"
      },
      "source": [
        "net = ConvNetwork()\n",
        "trainer = pl.Trainer(max_epochs=NUM_EPOCHS,log_every_n_steps=1)\n",
        "trainer.fit(net,train_gen, valid_gen)"
      ],
      "execution_count": null,
      "outputs": []
    },
    {
      "cell_type": "markdown",
      "metadata": {
        "id": "TmDncjvTja_W"
      },
      "source": [
        "## Testing neural network"
      ]
    },
    {
      "cell_type": "code",
      "metadata": {
        "id": "XHUIZt0ZICNF"
      },
      "source": [
        "import pandas as pd\n",
        "import seaborn as sn\n",
        "from sklearn.metrics import confusion_matrix, classification_report\n",
        "\n",
        "def generate_preds(valid_gen):\n",
        "    with torch.no_grad():\n",
        "        for i, (images,labels) in enumerate(valid_gen):\n",
        "            outputs = net(images)\n",
        "            _, preds = torch.max(outputs, 1)\n",
        "    return preds, labels\n",
        "\n",
        "def plot_confusion_matrix(confusion_matrix_stats, target_names):\n",
        "    df_cm = pd.DataFrame(confusion_matrix_stats, target_names, target_names)\n",
        "    plt.figure(figsize=(10,7)) # create empty figure to draw on\n",
        "    sn.set(font_scale=1.2) # for label size\n",
        "    sn.heatmap(df_cm, annot=True, annot_kws={\"size\": 14}) # font size\n",
        "    plt.show()\n",
        "\n",
        "preds, labels = generate_preds(valid_gen)\n",
        "confusion_matrix_stats = confusion_matrix(labels, preds)\n",
        "plot_confusion_matrix(confusion_matrix_stats, target_names = train_dataset.classes)\n",
        "\n"
      ],
      "execution_count": null,
      "outputs": []
    },
    {
      "cell_type": "code",
      "metadata": {
        "id": "OQg_RRSl8lII"
      },
      "source": [
        "print(\" +=============+ Classification report +=============+ \\n\")\n",
        "print(classification_report(labels, preds,  target_names = train_dataset.classes))"
      ],
      "execution_count": null,
      "outputs": []
    },
    {
      "cell_type": "code",
      "source": [
        ""
      ],
      "metadata": {
        "id": "aM41j1P_-tP4"
      },
      "execution_count": null,
      "outputs": []
    }
  ]
}